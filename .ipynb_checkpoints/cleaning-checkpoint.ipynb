{
 "cells": [
  {
   "cell_type": "code",
   "execution_count": 1,
   "id": "3187ac06-0a52-419c-83f8-13b7bad771fc",
   "metadata": {},
   "outputs": [
    {
     "name": "stdout",
     "output_type": "stream",
     "text": [
      "Defaulting to user installation because normal site-packages is not writeable\n",
      "Requirement already satisfied: googletrans in /home/garen/.local/lib/python3.12/site-packages (4.0.0rc1)\n",
      "Requirement already satisfied: httpx==0.13.3 in /home/garen/.local/lib/python3.12/site-packages (from googletrans) (0.13.3)\n",
      "Requirement already satisfied: certifi in /usr/lib/python3/dist-packages (from httpx==0.13.3->googletrans) (2023.11.17)\n",
      "Requirement already satisfied: hstspreload in /home/garen/.local/lib/python3.12/site-packages (from httpx==0.13.3->googletrans) (2025.1.1)\n",
      "Requirement already satisfied: sniffio in /home/garen/.local/lib/python3.12/site-packages (from httpx==0.13.3->googletrans) (1.3.1)\n",
      "Requirement already satisfied: chardet==3.* in /home/garen/.local/lib/python3.12/site-packages (from httpx==0.13.3->googletrans) (3.0.4)\n",
      "Requirement already satisfied: idna==2.* in /home/garen/.local/lib/python3.12/site-packages (from httpx==0.13.3->googletrans) (2.10)\n",
      "Requirement already satisfied: rfc3986<2,>=1.3 in /home/garen/.local/lib/python3.12/site-packages (from httpx==0.13.3->googletrans) (1.5.0)\n",
      "Requirement already satisfied: httpcore==0.9.* in /home/garen/.local/lib/python3.12/site-packages (from httpx==0.13.3->googletrans) (0.9.1)\n",
      "Requirement already satisfied: h11<0.10,>=0.8 in /home/garen/.local/lib/python3.12/site-packages (from httpcore==0.9.*->httpx==0.13.3->googletrans) (0.9.0)\n",
      "Requirement already satisfied: h2==3.* in /home/garen/.local/lib/python3.12/site-packages (from httpcore==0.9.*->httpx==0.13.3->googletrans) (3.2.0)\n",
      "Requirement already satisfied: hyperframe<6,>=5.2.0 in /home/garen/.local/lib/python3.12/site-packages (from h2==3.*->httpcore==0.9.*->httpx==0.13.3->googletrans) (5.2.0)\n",
      "Requirement already satisfied: hpack<4,>=3.0 in /home/garen/.local/lib/python3.12/site-packages (from h2==3.*->httpcore==0.9.*->httpx==0.13.3->googletrans) (3.0.0)\n"
     ]
    }
   ],
   "source": [
    "!pip install googletrans"
   ]
  },
  {
   "cell_type": "code",
   "execution_count": 2,
   "id": "c6f8cac5-0cdc-477d-a9f7-4808627bca54",
   "metadata": {},
   "outputs": [],
   "source": [
    "import pandas as pd\n",
    "import numpy as np\n",
    "import spacy\n",
    "from googletrans import Translator  # Import the Google Translate library\n",
    "import re"
   ]
  },
  {
   "cell_type": "code",
   "execution_count": 3,
   "id": "99695589-7f57-4c92-9fb8-ee01e30b706a",
   "metadata": {},
   "outputs": [],
   "source": [
    "df = pd.read_excel('Survey_SleepHabits.xlsx')"
   ]
  },
  {
   "cell_type": "code",
   "execution_count": 4,
   "id": "1d170954-39be-4381-afca-f8a8c92deac7",
   "metadata": {},
   "outputs": [
    {
     "data": {
      "text/plain": [
       "Index(['طابع زمني', '‎1. ‭What is your age ?', '‎2. ‭What is your gender ?',\n",
       "       '‎3. ‭What is your occupation ?', '‎4. ‭What is your marital status ?',\n",
       "       '‎5. ‭How many hours do you sleep on average per night ?',\n",
       "       '‎6. ‭At what time do you usually go to bed ?',\n",
       "       '‎7. ‭How would you rate the quality of your sleep ?',\n",
       "       '‎8. ‭What do you feel on average when you wake up ?',\n",
       "       '‎9. ‭How often do you feel sleepy during the daytime ?',\n",
       "       '‎10. ‭Are there any factors that interrupt your sleep or make you unable sleep ? (e.g., sound, light, room temperature, etc...)',\n",
       "       '‎11. ‭If so, explain what factor(s) and how it affects your sleep ?',\n",
       "       '‎12. ‭Is your sleep often interrupted resulting in waking up in the middle of the night ?',\n",
       "       '‎13. ‭If so, what do you do to go back to sleep ?',\n",
       "       '‎14. ‭What activities do you usually do before bedtime ? (select all that apply)',\n",
       "       '‎15. ‭What do you think about these activities' effect, is it positive or negative on your sleep ?',\n",
       "       '‎16. ‭How long does it take you to fall asleep on average ?',\n",
       "       '‎17. ‭If you have difficulty falling asleep, what do you do to fall asleep ? (do you force yourself to sleep, listen to music/podcast or do other activities). Please explain',\n",
       "       '‎18. ‭Do you experience any sleep disorders ?',\n",
       "       '‎19. ‭If you have any sleep disorders, what do you do to overcome it and to cope with it ?',\n",
       "       '‎20. ‭If you use electronic devices (e.g., phone, TV, laptop, etc...)\\n? how many hours do you spend using them',\n",
       "       '‎21. ‭Do you consume caffeine ? (e.g., coffee, tea, energy drinks, etc...)',\n",
       "       '‎22. ‭How often do you take naps during the day ?',\n",
       "       '‎23. ‭Do you exercise regularly ?',\n",
       "       '‎24. ‭Please rate the overall impact of your gym routine \"if you exercise\" on your sleep quality on a scale from 1 to 5 (1 negative impact and 5 positive impact)',\n",
       "       '‎25. ‭Do you have a consistent sleep schedule ? (even on weekends and holidays)'],\n",
       "      dtype='object')"
      ]
     },
     "execution_count": 4,
     "metadata": {},
     "output_type": "execute_result"
    }
   ],
   "source": [
    "df.columns"
   ]
  },
  {
   "cell_type": "code",
   "execution_count": 5,
   "id": "4342af37-c74c-490c-aca8-46d1c7ec3b59",
   "metadata": {},
   "outputs": [],
   "source": [
    "Data = df.iloc[:,[11,13,15,17,19,20]]"
   ]
  },
  {
   "cell_type": "code",
   "execution_count": 6,
   "id": "6f706ef3-7722-4a94-9faa-b883ee1f3f2e",
   "metadata": {},
   "outputs": [
    {
     "data": {
      "text/plain": [
       "Index(['‎11. ‭If so, explain what factor(s) and how it affects your sleep ?',\n",
       "       '‎13. ‭If so, what do you do to go back to sleep ?',\n",
       "       '‎15. ‭What do you think about these activities' effect, is it positive or negative on your sleep ?',\n",
       "       '‎17. ‭If you have difficulty falling asleep, what do you do to fall asleep ? (do you force yourself to sleep, listen to music/podcast or do other activities). Please explain',\n",
       "       '‎19. ‭If you have any sleep disorders, what do you do to overcome it and to cope with it ?',\n",
       "       '‎20. ‭If you use electronic devices (e.g., phone, TV, laptop, etc...)\\n? how many hours do you spend using them'],\n",
       "      dtype='object')"
      ]
     },
     "execution_count": 6,
     "metadata": {},
     "output_type": "execute_result"
    }
   ],
   "source": [
    "Data.columns"
   ]
  },
  {
   "cell_type": "code",
   "execution_count": 7,
   "id": "b4ebbc8c-2d75-4c8a-ac98-16bd02b86dd4",
   "metadata": {
    "scrolled": true
   },
   "outputs": [],
   "source": [
    "colum1 = pd.DataFrame(Data.iloc[:,[0]])"
   ]
  },
  {
   "cell_type": "code",
   "execution_count": 8,
   "id": "0d012f41-2448-4e79-9836-7c34d8f6063f",
   "metadata": {},
   "outputs": [],
   "source": [
    "## translate to english and fill Na"
   ]
  },
  {
   "cell_type": "code",
   "execution_count": 15,
   "id": "ff1f7f32-a0ac-4276-bb3a-db953748d1d6",
   "metadata": {},
   "outputs": [
    {
     "name": "stdout",
     "output_type": "stream",
     "text": [
      "Async translation error for 'الكلمات العربية': asyncio.run() cannot be called from a running event loop\n",
      "       your_column\n",
      "0        some text\n",
      "1  الكلمات العربية\n",
      "2      No Response\n",
      "3         français\n"
     ]
    },
    {
     "name": "stderr",
     "output_type": "stream",
     "text": [
      "/tmp/ipykernel_13817/3666612528.py:27: RuntimeWarning: coroutine 'async_translate' was never awaited\n",
      "  return text\n",
      "RuntimeWarning: Enable tracemalloc to get the object allocation traceback\n"
     ]
    }
   ],
   "source": [
    "\n",
    "import asyncio  # Import the asyncio library\n",
    "\n",
    "translator = Translator()\n",
    "\n",
    "async def async_translate(text, dest='en'):\n",
    "    \"\"\"Asynchronous translation function.\"\"\"\n",
    "    try:\n",
    "        translation = await translator.translate(text, dest=dest)\n",
    "        return translation.text\n",
    "    except Exception as e:\n",
    "        print(f\"Translation error: {e}\")\n",
    "        return text\n",
    "\n",
    "def translate_to_english(text):\n",
    "    \"\"\"Translates non-English text to English (asynchronously).\"\"\"\n",
    "    if pd.isna(text):\n",
    "        return \"No Response\"\n",
    "    text = str(text)\n",
    "    if is_english(text):\n",
    "        return text\n",
    "    try:\n",
    "        return asyncio.run(async_translate(text))\n",
    "    except Exception as e:\n",
    "        print(f\"Async translation error: {e}\")\n",
    "        return text\n",
    "\n",
    "def is_english(text):\n",
    "    \"\"\"Checks if the text is mostly English.\"\"\"\n",
    "    if pd.isna(text):\n",
    "        return True\n",
    "    try:\n",
    "        return sum(ord(c) > 127 for c in str(text)) / len(str(text)) < 0.2\n",
    "    except TypeError:\n",
    "        return False\n",
    "\n",
    "def clean_and_translate(text):\n",
    "    \"\"\"Cleans, handles NaN, and translates to English.\"\"\"\n",
    "    if pd.isna(text):\n",
    "        return \"No Response\"\n",
    "    text = str(text).strip()\n",
    "    if not text:\n",
    "        return \"No Response\"\n",
    "    return translate_to_english(text)\n",
    "\n",
    "# Assuming your DataFrame is named 'colum1'\n",
    "# Make sure to load your DataFrame here if it's not already loaded\n",
    "# Example:\n",
    "# data = {'your_column': ['some text', 'الكلمات العربية', pd.NA]}\n",
    "# colum1 = pd.DataFrame(data)\n",
    "\n",
    "# --- Preprocessing ---\n",
    "for col in colum1.columns:\n",
    "    colum1[col] = colum1[col].apply(clean_and_translate)\n",
    "\n",
    "# Print the processed DataFrame\n",
    "print(colum1)"
   ]
  },
  {
   "cell_type": "code",
   "execution_count": 16,
   "id": "10d5760c-0861-4caa-bfb9-24f12876ece0",
   "metadata": {},
   "outputs": [
    {
     "data": {
      "text/plain": [
       "array([['some text'],\n",
       "       ['الكلمات العربية'],\n",
       "       ['No Response'],\n",
       "       ['français']], dtype=object)"
      ]
     },
     "execution_count": 16,
     "metadata": {},
     "output_type": "execute_result"
    }
   ],
   "source": [
    "colum1.values"
   ]
  },
  {
   "cell_type": "code",
   "execution_count": null,
   "id": "a0ff7098-a322-404c-94e9-921ba9853e0d",
   "metadata": {},
   "outputs": [],
   "source": []
  }
 ],
 "metadata": {
  "kernelspec": {
   "display_name": "Python 3 (ipykernel)",
   "language": "python",
   "name": "python3"
  },
  "language_info": {
   "codemirror_mode": {
    "name": "ipython",
    "version": 3
   },
   "file_extension": ".py",
   "mimetype": "text/x-python",
   "name": "python",
   "nbconvert_exporter": "python",
   "pygments_lexer": "ipython3",
   "version": "3.12.3"
  }
 },
 "nbformat": 4,
 "nbformat_minor": 5
}
